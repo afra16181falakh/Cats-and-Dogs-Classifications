{
 "cells": [
  {
   "cell_type": "markdown",
   "id": "e51770cc",
   "metadata": {
    "papermill": {
     "duration": 0.006743,
     "end_time": "2024-02-01T18:56:57.826926",
     "exception": false,
     "start_time": "2024-02-01T18:56:57.820183",
     "status": "completed"
    },
    "tags": []
   },
   "source": [
    "### Import the necessary packages"
   ]
  },
  {
   "cell_type": "code",
   "execution_count": 1,
   "id": "33b95753",
   "metadata": {
    "_cell_guid": "b1076dfc-b9ad-4769-8c92-a6c4dae69d19",
    "_uuid": "8f2839f25d086af736a60e9eeb907d3b93b6e0e5",
    "execution": {
     "iopub.execute_input": "2024-02-01T18:56:57.843060Z",
     "iopub.status.busy": "2024-02-01T18:56:57.841663Z",
     "iopub.status.idle": "2024-02-01T18:57:14.697218Z",
     "shell.execute_reply": "2024-02-01T18:57:14.695765Z"
    },
    "papermill": {
     "duration": 16.866974,
     "end_time": "2024-02-01T18:57:14.700421",
     "exception": false,
     "start_time": "2024-02-01T18:56:57.833447",
     "status": "completed"
    },
    "tags": []
   },
   "outputs": [
    {
     "name": "stderr",
     "output_type": "stream",
     "text": [
      "2024-02-01 18:57:00.205632: E external/local_xla/xla/stream_executor/cuda/cuda_dnn.cc:9261] Unable to register cuDNN factory: Attempting to register factory for plugin cuDNN when one has already been registered\n",
      "2024-02-01 18:57:00.205775: E external/local_xla/xla/stream_executor/cuda/cuda_fft.cc:607] Unable to register cuFFT factory: Attempting to register factory for plugin cuFFT when one has already been registered\n",
      "2024-02-01 18:57:00.381498: E external/local_xla/xla/stream_executor/cuda/cuda_blas.cc:1515] Unable to register cuBLAS factory: Attempting to register factory for plugin cuBLAS when one has already been registered\n"
     ]
    }
   ],
   "source": [
    "import os\n",
    "import tensorflow as tf\n",
    "from tensorflow.keras.preprocessing.image import ImageDataGenerator\n",
    "import numpy as np\n",
    "import pandas as pd\n",
    "import matplotlib.pyplot as plt"
   ]
  },
  {
   "cell_type": "markdown",
   "id": "dba0032e",
   "metadata": {
    "papermill": {
     "duration": 0.006187,
     "end_time": "2024-02-01T18:57:14.713274",
     "exception": false,
     "start_time": "2024-02-01T18:57:14.707087",
     "status": "completed"
    },
    "tags": []
   },
   "source": [
    "### Specify the directories of dataset"
   ]
  },
  {
   "cell_type": "code",
   "execution_count": 2,
   "id": "e01696db",
   "metadata": {
    "execution": {
     "iopub.execute_input": "2024-02-01T18:57:14.728963Z",
     "iopub.status.busy": "2024-02-01T18:57:14.728100Z",
     "iopub.status.idle": "2024-02-01T18:57:14.736179Z",
     "shell.execute_reply": "2024-02-01T18:57:14.734770Z"
    },
    "papermill": {
     "duration": 0.017823,
     "end_time": "2024-02-01T18:57:14.737607",
     "exception": true,
     "start_time": "2024-02-01T18:57:14.719784",
     "status": "failed"
    },
    "tags": []
   },
   "outputs": [
    {
     "ename": "SyntaxError",
     "evalue": "invalid syntax (3262441933.py, line 1)",
     "output_type": "error",
     "traceback": [
      "\u001b[0;36m  Cell \u001b[0;32mIn[2], line 1\u001b[0;36m\u001b[0m\n\u001b[0;31m    train_dir =\u001b[0m\n\u001b[0m                ^\u001b[0m\n\u001b[0;31mSyntaxError\u001b[0m\u001b[0;31m:\u001b[0m invalid syntax\n"
     ]
    }
   ],
   "source": [
    "train_dir = \n",
    "val_dir = \n",
    "train_cats_dir = \n",
    "train_dogs_dir = "
   ]
  },
  {
   "cell_type": "code",
   "execution_count": null,
   "id": "f4c864b5",
   "metadata": {
    "execution": {
     "iopub.execute_input": "2024-02-01T17:11:50.507830Z",
     "iopub.status.busy": "2024-02-01T17:11:50.506789Z",
     "iopub.status.idle": "2024-02-01T17:11:50.512268Z",
     "shell.execute_reply": "2024-02-01T17:11:50.510985Z",
     "shell.execute_reply.started": "2024-02-01T17:11:50.507786Z"
    },
    "papermill": {
     "duration": null,
     "end_time": null,
     "exception": null,
     "start_time": null,
     "status": "pending"
    },
    "tags": []
   },
   "outputs": [],
   "source": [
    "BATCH_SIZE = \n",
    "IMG_SHAPE  ="
   ]
  },
  {
   "cell_type": "markdown",
   "id": "1916f302",
   "metadata": {
    "papermill": {
     "duration": null,
     "end_time": null,
     "exception": null,
     "start_time": null,
     "status": "pending"
    },
    "tags": []
   },
   "source": [
    "### Creating Training generator"
   ]
  },
  {
   "cell_type": "code",
   "execution_count": null,
   "id": "1f2cb2f3",
   "metadata": {
    "execution": {
     "iopub.execute_input": "2024-02-01T17:11:52.864198Z",
     "iopub.status.busy": "2024-02-01T17:11:52.863804Z",
     "iopub.status.idle": "2024-02-01T17:11:52.918017Z",
     "shell.execute_reply": "2024-02-01T17:11:52.917166Z",
     "shell.execute_reply.started": "2024-02-01T17:11:52.864169Z"
    },
    "papermill": {
     "duration": null,
     "end_time": null,
     "exception": null,
     "start_time": null,
     "status": "pending"
    },
    "tags": []
   },
   "outputs": [],
   "source": [
    "image_gen_train = \n",
    "\n",
    "train_data_gen = "
   ]
  },
  {
   "cell_type": "markdown",
   "id": "910d32f5",
   "metadata": {
    "papermill": {
     "duration": null,
     "end_time": null,
     "exception": null,
     "start_time": null,
     "status": "pending"
    },
    "tags": []
   },
   "source": [
    "### Creating Validation generator"
   ]
  },
  {
   "cell_type": "code",
   "execution_count": null,
   "id": "273f4939",
   "metadata": {
    "execution": {
     "iopub.execute_input": "2024-02-01T17:12:01.038594Z",
     "iopub.status.busy": "2024-02-01T17:12:01.037349Z",
     "iopub.status.idle": "2024-02-01T17:12:01.079295Z",
     "shell.execute_reply": "2024-02-01T17:12:01.078385Z",
     "shell.execute_reply.started": "2024-02-01T17:12:01.038553Z"
    },
    "papermill": {
     "duration": null,
     "end_time": null,
     "exception": null,
     "start_time": null,
     "status": "pending"
    },
    "tags": []
   },
   "outputs": [],
   "source": [
    "image_gen_val = \n",
    "\n",
    "val_data_gen = "
   ]
  },
  {
   "cell_type": "markdown",
   "id": "834e7838",
   "metadata": {
    "papermill": {
     "duration": null,
     "end_time": null,
     "exception": null,
     "start_time": null,
     "status": "pending"
    },
    "tags": []
   },
   "source": [
    "### Define the model"
   ]
  },
  {
   "cell_type": "code",
   "execution_count": null,
   "id": "d1d3d6ec",
   "metadata": {
    "execution": {
     "iopub.execute_input": "2024-02-01T17:12:33.290556Z",
     "iopub.status.busy": "2024-02-01T17:12:33.290113Z",
     "iopub.status.idle": "2024-02-01T17:12:33.540536Z",
     "shell.execute_reply": "2024-02-01T17:12:33.539574Z",
     "shell.execute_reply.started": "2024-02-01T17:12:33.290525Z"
    },
    "papermill": {
     "duration": null,
     "end_time": null,
     "exception": null,
     "start_time": null,
     "status": "pending"
    },
    "tags": []
   },
   "outputs": [],
   "source": [
    "model = tf.keras.models.Sequential([\n",
    "\n",
    "])"
   ]
  },
  {
   "cell_type": "markdown",
   "id": "53bd4e70",
   "metadata": {
    "papermill": {
     "duration": null,
     "end_time": null,
     "exception": null,
     "start_time": null,
     "status": "pending"
    },
    "tags": []
   },
   "source": [
    "### Compiling the model"
   ]
  },
  {
   "cell_type": "code",
   "execution_count": null,
   "id": "b25cb009",
   "metadata": {
    "execution": {
     "iopub.execute_input": "2024-02-01T17:12:46.563433Z",
     "iopub.status.busy": "2024-02-01T17:12:46.562992Z",
     "iopub.status.idle": "2024-02-01T17:12:46.589696Z",
     "shell.execute_reply": "2024-02-01T17:12:46.588548Z",
     "shell.execute_reply.started": "2024-02-01T17:12:46.563397Z"
    },
    "papermill": {
     "duration": null,
     "end_time": null,
     "exception": null,
     "start_time": null,
     "status": "pending"
    },
    "tags": []
   },
   "outputs": [],
   "source": [
    "model.compile()"
   ]
  },
  {
   "cell_type": "markdown",
   "id": "06899cee",
   "metadata": {
    "papermill": {
     "duration": null,
     "end_time": null,
     "exception": null,
     "start_time": null,
     "status": "pending"
    },
    "tags": []
   },
   "source": [
    "### Model Summary"
   ]
  },
  {
   "cell_type": "code",
   "execution_count": null,
   "id": "4829d6f1",
   "metadata": {
    "execution": {
     "iopub.execute_input": "2024-02-01T17:12:49.180900Z",
     "iopub.status.busy": "2024-02-01T17:12:49.180503Z",
     "iopub.status.idle": "2024-02-01T17:12:49.220874Z",
     "shell.execute_reply": "2024-02-01T17:12:49.218901Z",
     "shell.execute_reply.started": "2024-02-01T17:12:49.180870Z"
    },
    "papermill": {
     "duration": null,
     "end_time": null,
     "exception": null,
     "start_time": null,
     "status": "pending"
    },
    "tags": []
   },
   "outputs": [],
   "source": [
    "model.summary()"
   ]
  },
  {
   "cell_type": "markdown",
   "id": "7889c2b4",
   "metadata": {
    "papermill": {
     "duration": null,
     "end_time": null,
     "exception": null,
     "start_time": null,
     "status": "pending"
    },
    "tags": []
   },
   "source": [
    "### Train the model"
   ]
  },
  {
   "cell_type": "code",
   "execution_count": null,
   "id": "1077c848",
   "metadata": {
    "execution": {
     "iopub.execute_input": "2024-02-01T17:16:25.378449Z",
     "iopub.status.busy": "2024-02-01T17:16:25.377968Z",
     "iopub.status.idle": "2024-02-01T17:16:25.383961Z",
     "shell.execute_reply": "2024-02-01T17:16:25.382361Z",
     "shell.execute_reply.started": "2024-02-01T17:16:25.378408Z"
    },
    "papermill": {
     "duration": null,
     "end_time": null,
     "exception": null,
     "start_time": null,
     "status": "pending"
    },
    "tags": []
   },
   "outputs": [],
   "source": [
    "total_train = \n",
    "total_val = \n",
    "epochs="
   ]
  },
  {
   "cell_type": "code",
   "execution_count": null,
   "id": "10c3d125",
   "metadata": {
    "execution": {
     "iopub.execute_input": "2024-02-01T17:16:25.821413Z",
     "iopub.status.busy": "2024-02-01T17:16:25.820308Z"
    },
    "papermill": {
     "duration": null,
     "end_time": null,
     "exception": null,
     "start_time": null,
     "status": "pending"
    },
    "tags": []
   },
   "outputs": [],
   "source": [
    "history = model.fit_generator()"
   ]
  },
  {
   "cell_type": "markdown",
   "id": "f0dfc5c2",
   "metadata": {
    "papermill": {
     "duration": null,
     "end_time": null,
     "exception": null,
     "start_time": null,
     "status": "pending"
    },
    "tags": []
   },
   "source": [
    "### Visualize the results"
   ]
  },
  {
   "cell_type": "code",
   "execution_count": null,
   "id": "b5dc19a4",
   "metadata": {
    "papermill": {
     "duration": null,
     "end_time": null,
     "exception": null,
     "start_time": null,
     "status": "pending"
    },
    "tags": []
   },
   "outputs": [],
   "source": [
    "acc = \n",
    "val_acc =\n",
    "\n",
    "loss = \n",
    "val_loss = \n",
    "\n",
    "epochs_range =\n",
    "\n",
    "plt.figure(figsize=(8, 8))\n",
    "\n",
    "plt.show()"
   ]
  }
 ],
 "metadata": {
  "kaggle": {
   "accelerator": "none",
   "dataSources": [
    {
     "datasetId": 204007,
     "sourceId": 448151,
     "sourceType": "datasetVersion"
    }
   ],
   "dockerImageVersionId": 30646,
   "isGpuEnabled": false,
   "isInternetEnabled": true,
   "language": "python",
   "sourceType": "notebook"
  },
  "kernelspec": {
   "display_name": "Python 3",
   "language": "python",
   "name": "python3"
  },
  "language_info": {
   "codemirror_mode": {
    "name": "ipython",
    "version": 3
   },
   "file_extension": ".py",
   "mimetype": "text/x-python",
   "name": "python",
   "nbconvert_exporter": "python",
   "pygments_lexer": "ipython3",
   "version": "3.10.13"
  },
  "papermill": {
   "default_parameters": {},
   "duration": 21.687506,
   "end_time": "2024-02-01T18:57:16.373235",
   "environment_variables": {},
   "exception": true,
   "input_path": "__notebook__.ipynb",
   "output_path": "__notebook__.ipynb",
   "parameters": {},
   "start_time": "2024-02-01T18:56:54.685729",
   "version": "2.5.0"
  }
 },
 "nbformat": 4,
 "nbformat_minor": 5
}
